{
 "cells": [
  {
   "cell_type": "code",
   "execution_count": 1,
   "source": [
    "import pandas as pd\r\n",
    "import numpy as np\r\n",
    "import matplotlib.pyplot as plt\r\n",
    "from sklearn.naive_bayes import MultinomialNB\r\n",
    "from sklearn.feature_extraction.text import CountVectorizer\r\n",
    "from sklearn.feature_extraction.text import TfidfVectorizer\r\n",
    "# from sklearn.feature_extraction.text import TfidfTransformer\r\n",
    "from sklearn.pipeline import Pipeline\r\n",
    "from sklearn.model_selection import KFold, train_test_split\r\n",
    "from sklearn.metrics import f1_score, accuracy_score, precision_score, recall_score\r\n",
    "from sklearn.metrics import confusion_matrix, classification_report"
   ],
   "outputs": [],
   "metadata": {}
  },
  {
   "cell_type": "code",
   "execution_count": 2,
   "source": [
    "# Load dataset\r\n",
    "def load_data():\r\n",
    "    data = pd.read_csv(\"digital_korlantas_reviews_5000_p.csv\")\r\n",
    "    return data\r\n",
    "\r\n",
    "df = load_data()\r\n",
    "df = df[[\"content_preprocessed\",\"sentiment\"]] #hanya mengambil kolom content_preprocessed dan sentiment \r\n",
    "df.head()"
   ],
   "outputs": [
    {
     "output_type": "execute_result",
     "data": {
      "text/plain": [
       "                                content_preprocessed sentiment\n",
       "0                                             mantap   Positif\n",
       "1                                               moga   Positif\n",
       "2                                                 ok   Positif\n",
       "3                              bantu buat sim online   Positif\n",
       "4  alhamdulillah sim darat selamat rumah terima k...   Positif"
      ],
      "text/html": [
       "<div>\n",
       "<style scoped>\n",
       "    .dataframe tbody tr th:only-of-type {\n",
       "        vertical-align: middle;\n",
       "    }\n",
       "\n",
       "    .dataframe tbody tr th {\n",
       "        vertical-align: top;\n",
       "    }\n",
       "\n",
       "    .dataframe thead th {\n",
       "        text-align: right;\n",
       "    }\n",
       "</style>\n",
       "<table border=\"1\" class=\"dataframe\">\n",
       "  <thead>\n",
       "    <tr style=\"text-align: right;\">\n",
       "      <th></th>\n",
       "      <th>content_preprocessed</th>\n",
       "      <th>sentiment</th>\n",
       "    </tr>\n",
       "  </thead>\n",
       "  <tbody>\n",
       "    <tr>\n",
       "      <th>0</th>\n",
       "      <td>mantap</td>\n",
       "      <td>Positif</td>\n",
       "    </tr>\n",
       "    <tr>\n",
       "      <th>1</th>\n",
       "      <td>moga</td>\n",
       "      <td>Positif</td>\n",
       "    </tr>\n",
       "    <tr>\n",
       "      <th>2</th>\n",
       "      <td>ok</td>\n",
       "      <td>Positif</td>\n",
       "    </tr>\n",
       "    <tr>\n",
       "      <th>3</th>\n",
       "      <td>bantu buat sim online</td>\n",
       "      <td>Positif</td>\n",
       "    </tr>\n",
       "    <tr>\n",
       "      <th>4</th>\n",
       "      <td>alhamdulillah sim darat selamat rumah terima k...</td>\n",
       "      <td>Positif</td>\n",
       "    </tr>\n",
       "  </tbody>\n",
       "</table>\n",
       "</div>"
      ]
     },
     "metadata": {},
     "execution_count": 2
    }
   ],
   "metadata": {}
  },
  {
   "cell_type": "code",
   "execution_count": 3,
   "source": [
    "# menetapkan kolom sentiment sebagai kolom betipe kategori\r\n",
    "# menetapkan kolom content_preprocessed sebagai kolom betipe string\r\n",
    "df = df.astype({\"content_preprocessed\":\"string\",\"sentiment\":\"category\"})\r\n",
    "df.dtypes"
   ],
   "outputs": [
    {
     "output_type": "execute_result",
     "data": {
      "text/plain": [
       "content_preprocessed      string\n",
       "sentiment               category\n",
       "dtype: object"
      ]
     },
     "metadata": {},
     "execution_count": 3
    }
   ],
   "metadata": {}
  },
  {
   "cell_type": "code",
   "execution_count": 4,
   "source": [
    "# proses TF-IDF Vectorizer, setiap data yang pada awal nya bertipe string menjadi vektor dan dilakukan pembobotan\r\n",
    "tf = TfidfVectorizer()\r\n",
    "text_tf=tf.fit_transform(df[\"content_preprocessed\"].astype(\"U\"))\r\n",
    "text_tf"
   ],
   "outputs": [
    {
     "output_type": "execute_result",
     "data": {
      "text/plain": [
       "<2630x2778 sparse matrix of type '<class 'numpy.float64'>'\n",
       "\twith 22466 stored elements in Compressed Sparse Row format>"
      ]
     },
     "metadata": {},
     "execution_count": 4
    }
   ],
   "metadata": {}
  },
  {
   "cell_type": "code",
   "execution_count": 5,
   "source": [
    "# pembagian subdataset menjadi bagian train dan test\r\n",
    "X_train, X_test, y_train, y_test = train_test_split(text_tf,df[\"sentiment\"], test_size=0.2, random_state=14)"
   ],
   "outputs": [],
   "metadata": {}
  },
  {
   "cell_type": "code",
   "execution_count": 6,
   "source": [
    "# jumlah kategori/class pada setiap subdataset\r\n",
    "print(f\"Positif class at train dataset {sum(y_train=='Positif')}\")\r\n",
    "print(f\"Positif class at train dataset {sum(y_train=='Negatif')}\")\r\n",
    "print(f\"Positif class at test dataset {sum(y_test=='Positif')}\")\r\n",
    "print(f\"Positif class at test dataset {sum(y_test=='Negatif')}\")\r\n"
   ],
   "outputs": [
    {
     "output_type": "stream",
     "name": "stdout",
     "text": [
      "Positif class at train dataset 1039\n",
      "Positif class at train dataset 1065\n",
      "Positif class at test dataset 268\n",
      "Positif class at test dataset 258\n"
     ]
    }
   ],
   "metadata": {}
  },
  {
   "cell_type": "code",
   "execution_count": 7,
   "source": [
    "# pengujian performa algoritma Naive Bayes dengan accuracy, preci\r\n",
    "model = MultinomialNB().fit(X_train,y_train)\r\n",
    "predicted = model.predict(X_test)\r\n",
    "print(\"accuracy\",accuracy_score(y_test,predicted))\r\n",
    "print(\"precision\",precision_score(y_test,predicted,average=\"binary\", pos_label=\"Negatif\"))\r\n",
    "print(\"recall\",recall_score(y_test,predicted,average=\"binary\", pos_label=\"Negatif\"))\r\n",
    "print(\"f1 score\",f1_score(y_test,predicted,average=\"binary\", pos_label=\"Negatif\"))\r\n",
    "print(confusion_matrix(y_test,predicted))\r\n",
    "print(classification_report(y_test, predicted, zero_division=0))"
   ],
   "outputs": [
    {
     "output_type": "stream",
     "name": "stdout",
     "text": [
      "accuracy 0.8003802281368821\n",
      "precision 0.7703180212014135\n",
      "recall 0.8449612403100775\n",
      "f1 score 0.8059149722735675\n",
      "[[218  40]\n",
      " [ 65 203]]\n",
      "              precision    recall  f1-score   support\n",
      "\n",
      "     Negatif       0.77      0.84      0.81       258\n",
      "     Positif       0.84      0.76      0.79       268\n",
      "\n",
      "    accuracy                           0.80       526\n",
      "   macro avg       0.80      0.80      0.80       526\n",
      "weighted avg       0.80      0.80      0.80       526\n",
      "\n"
     ]
    }
   ],
   "metadata": {}
  },
  {
   "cell_type": "code",
   "execution_count": 8,
   "source": [
    "kf = KFold(n_splits=10)\r\n",
    "X_4kfold = text_tf.toarray()\r\n",
    "Y_4kfold  = df[\"sentiment\"].copy()\r\n",
    "def cross_val(estimator):\r\n",
    "    acc = []\r\n",
    "    prec = []\r\n",
    "    rec = []\r\n",
    "    f1 = []\r\n",
    "    for train_index, test_index in kf.split(X_4kfold,Y_4kfold):\r\n",
    "        X_train, X_test = X_4kfold[train_index], X_4kfold[test_index]\r\n",
    "        y_train, y_test = Y_4kfold[train_index], Y_4kfold[test_index]\r\n",
    "        model = estimator.fit(X_train,y_train)\r\n",
    "        predicted = model.predict(X_test)\r\n",
    "        acc.append(accuracy_score(y_test,predicted))\r\n",
    "        prec.append(precision_score(y_test,predicted,average=\"binary\", pos_label=\"Negatif\"))\r\n",
    "        rec.append(recall_score(y_test,predicted,average=\"binary\", pos_label=\"Negatif\"))\r\n",
    "        f1.append(f1_score(y_test,predicted,average=\"binary\", pos_label=\"Negatif\"))\r\n",
    "        \r\n",
    "        print(\"acc\",accuracy_score(y_test,predicted))\r\n",
    "        print(\"prec\",precision_score(y_test,predicted,average=\"binary\", pos_label=\"Negatif\"))\r\n",
    "        print(\"rec\",recall_score(y_test,predicted,average=\"binary\", pos_label=\"Negatif\"))\r\n",
    "        print(\"f1\",f1_score(y_test,predicted,average=\"binary\", pos_label=\"Negatif\"))\r\n",
    "        print(confusion_matrix(y_test,predicted))\r\n",
    "        print(classification_report(y_test, predicted, zero_division=0))\r\n",
    "        print(\"==================================================================\")\r\n",
    "    \r\n",
    "    print(\"Average========================================================\")\r\n",
    "    print(f\"accuracy : {np.mean(acc)}\")\r\n",
    "    print(f\"precision : {np.mean(prec)}\")\r\n",
    "    print(f\"recall : {np.mean(rec)}\")\r\n",
    "    print(f\"f1 score : {np.mean(f1)}\")\r\n",
    "\r\n",
    "model = MultinomialNB()\r\n",
    "cross_val(model)"
   ],
   "outputs": [
    {
     "output_type": "stream",
     "name": "stdout",
     "text": [
      "acc 0.6844106463878327\n",
      "prec 0.0\n",
      "rec 0.0\n",
      "f1 0.0\n",
      "[[  0   0]\n",
      " [ 83 180]]\n",
      "              precision    recall  f1-score   support\n",
      "\n",
      "     Negatif       0.00      0.00      0.00         0\n",
      "     Positif       1.00      0.68      0.81       263\n",
      "\n",
      "    accuracy                           0.68       263\n",
      "   macro avg       0.50      0.34      0.41       263\n",
      "weighted avg       1.00      0.68      0.81       263\n",
      "\n",
      "==================================================================\n",
      "acc 0.6692015209125475\n"
     ]
    },
    {
     "output_type": "stream",
     "name": "stderr",
     "text": [
      "C:\\Users\\binta\\anaconda3\\lib\\site-packages\\sklearn\\metrics\\_classification.py:1221: UndefinedMetricWarning: Recall is ill-defined and being set to 0.0 due to no true samples. Use `zero_division` parameter to control this behavior.\n",
      "  _warn_prf(average, modifier, msg_start, len(result))\n",
      "C:\\Users\\binta\\anaconda3\\lib\\site-packages\\sklearn\\metrics\\_classification.py:1221: UndefinedMetricWarning: Recall is ill-defined and being set to 0.0 due to no true samples. Use `zero_division` parameter to control this behavior.\n",
      "  _warn_prf(average, modifier, msg_start, len(result))\n",
      "C:\\Users\\binta\\anaconda3\\lib\\site-packages\\sklearn\\metrics\\_classification.py:1221: UndefinedMetricWarning: Recall is ill-defined and being set to 0.0 due to no true samples. Use `zero_division` parameter to control this behavior.\n",
      "  _warn_prf(average, modifier, msg_start, len(result))\n",
      "C:\\Users\\binta\\anaconda3\\lib\\site-packages\\sklearn\\metrics\\_classification.py:1221: UndefinedMetricWarning: Recall is ill-defined and being set to 0.0 due to no true samples. Use `zero_division` parameter to control this behavior.\n",
      "  _warn_prf(average, modifier, msg_start, len(result))\n"
     ]
    },
    {
     "output_type": "stream",
     "name": "stdout",
     "text": [
      "prec 0.0\n",
      "rec 0.0\n",
      "f1 0.0\n",
      "[[  0   0]\n",
      " [ 87 176]]\n",
      "              precision    recall  f1-score   support\n",
      "\n",
      "     Negatif       0.00      0.00      0.00         0\n",
      "     Positif       1.00      0.67      0.80       263\n",
      "\n",
      "    accuracy                           0.67       263\n",
      "   macro avg       0.50      0.33      0.40       263\n",
      "weighted avg       1.00      0.67      0.80       263\n",
      "\n",
      "==================================================================\n",
      "acc 0.6349809885931559\n",
      "prec 0.0\n",
      "rec 0.0\n",
      "f1 0.0\n",
      "[[  0   0]\n",
      " [ 96 167]]\n",
      "              precision    recall  f1-score   support\n",
      "\n",
      "     Negatif       0.00      0.00      0.00         0\n",
      "     Positif       1.00      0.63      0.78       263\n",
      "\n",
      "    accuracy                           0.63       263\n",
      "   macro avg       0.50      0.32      0.39       263\n",
      "weighted avg       1.00      0.63      0.78       263\n",
      "\n",
      "==================================================================\n",
      "acc 0.6197718631178707\n",
      "prec 0.0\n",
      "rec 0.0\n",
      "f1 0.0\n",
      "[[  0   0]\n",
      " [100 163]]\n",
      "              precision    recall  f1-score   support\n",
      "\n",
      "     Negatif       0.00      0.00      0.00         0\n",
      "     Positif       1.00      0.62      0.77       263\n",
      "\n",
      "    accuracy                           0.62       263\n",
      "   macro avg       0.50      0.31      0.38       263\n",
      "weighted avg       1.00      0.62      0.77       263\n",
      "\n",
      "==================================================================\n",
      "acc 0.8288973384030418\n",
      "prec 0.10638297872340426\n",
      "rec 0.625\n",
      "f1 0.1818181818181818\n",
      "[[  5   3]\n",
      " [ 42 213]]\n",
      "              precision    recall  f1-score   support\n",
      "\n",
      "     Negatif       0.11      0.62      0.18         8\n",
      "     Positif       0.99      0.84      0.90       255\n",
      "\n",
      "    accuracy                           0.83       263\n",
      "   macro avg       0.55      0.73      0.54       263\n",
      "weighted avg       0.96      0.83      0.88       263\n",
      "\n",
      "==================================================================\n",
      "acc 0.7300380228136882\n",
      "prec 1.0\n",
      "rec 0.7300380228136882\n",
      "f1 0.843956043956044\n",
      "[[192  71]\n",
      " [  0   0]]\n",
      "              precision    recall  f1-score   support\n",
      "\n",
      "     Negatif       1.00      0.73      0.84       263\n",
      "     Positif       0.00      0.00      0.00         0\n",
      "\n",
      "    accuracy                           0.73       263\n",
      "   macro avg       0.50      0.37      0.42       263\n",
      "weighted avg       1.00      0.73      0.84       263\n",
      "\n",
      "==================================================================\n",
      "acc 0.7604562737642585\n",
      "prec 1.0\n",
      "rec 0.7604562737642585\n",
      "f1 0.8639308855291576\n",
      "[[200  63]\n",
      " [  0   0]]\n",
      "              precision    recall  f1-score   support\n",
      "\n",
      "     Negatif       1.00      0.76      0.86       263\n",
      "     Positif       0.00      0.00      0.00         0\n",
      "\n",
      "    accuracy                           0.76       263\n",
      "   macro avg       0.50      0.38      0.43       263\n",
      "weighted avg       1.00      0.76      0.86       263\n",
      "\n",
      "==================================================================\n",
      "acc 0.7224334600760456\n",
      "prec 1.0\n",
      "rec 0.7224334600760456\n",
      "f1 0.8388520971302428\n",
      "[[190  73]\n",
      " [  0   0]]\n",
      "              precision    recall  f1-score   support\n",
      "\n",
      "     Negatif       1.00      0.72      0.84       263\n",
      "     Positif       0.00      0.00      0.00         0\n",
      "\n",
      "    accuracy                           0.72       263\n",
      "   macro avg       0.50      0.36      0.42       263\n",
      "weighted avg       1.00      0.72      0.84       263\n",
      "\n",
      "==================================================================\n",
      "acc 0.752851711026616\n",
      "prec 1.0\n",
      "rec 0.752851711026616\n",
      "f1 0.8590021691973969\n",
      "[[198  65]\n",
      " [  0   0]]\n",
      "              precision    recall  f1-score   support\n",
      "\n",
      "     Negatif       1.00      0.75      0.86       263\n",
      "     Positif       0.00      0.00      0.00         0\n",
      "\n",
      "    accuracy                           0.75       263\n",
      "   macro avg       0.50      0.38      0.43       263\n",
      "weighted avg       1.00      0.75      0.86       263\n",
      "\n",
      "==================================================================\n",
      "acc 0.7604562737642585\n",
      "prec 1.0\n",
      "rec 0.7604562737642585\n",
      "f1 0.8639308855291576\n",
      "[[200  63]\n",
      " [  0   0]]\n",
      "              precision    recall  f1-score   support\n",
      "\n",
      "     Negatif       1.00      0.76      0.86       263\n",
      "     Positif       0.00      0.00      0.00         0\n",
      "\n",
      "    accuracy                           0.76       263\n",
      "   macro avg       0.50      0.38      0.43       263\n",
      "weighted avg       1.00      0.76      0.86       263\n",
      "\n",
      "==================================================================\n",
      "Average========================================================\n",
      "accuracy : 0.7163498098859316\n",
      "precision : 0.5106382978723405\n",
      "recall : 0.4351235741444867\n",
      "f1 score : 0.44514902631601805\n"
     ]
    }
   ],
   "metadata": {}
  },
  {
   "cell_type": "code",
   "execution_count": null,
   "source": [],
   "outputs": [],
   "metadata": {}
  }
 ],
 "metadata": {
  "kernelspec": {
   "display_name": "Python 3",
   "language": "python",
   "name": "python3"
  },
  "language_info": {
   "codemirror_mode": {
    "name": "ipython",
    "version": 3
   },
   "file_extension": ".py",
   "mimetype": "text/x-python",
   "name": "python",
   "nbconvert_exporter": "python",
   "pygments_lexer": "ipython3",
   "version": "3.8.5"
  }
 },
 "nbformat": 4,
 "nbformat_minor": 4
}