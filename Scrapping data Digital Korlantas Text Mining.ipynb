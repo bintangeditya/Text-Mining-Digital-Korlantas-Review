{
  "nbformat": 4,
  "nbformat_minor": 2,
  "metadata": {
    "colab": {
      "name": "googlePlayScraping",
      "provenance": []
    },
    "kernelspec": {
      "name": "python3",
      "display_name": "Python 3"
    },
    "language_info": {
      "name": "python"
    }
  },
  "cells": [
    {
      "cell_type": "code",
      "execution_count": null,
      "source": [
        "from google_play_scraper import Sort, reviews\r\n",
        "\r\n",
        "app_package_id = \"id.qoin.korlantas.user\"\r\n",
        "result, continuation_token = reviews(\r\n",
        "    app_package_id,\r\n",
        "    lang=\"id\", # ulasan pada bahasa tertentu\r\n",
        "    country=\"id\", # ulasan pada negara tertentu\r\n",
        "    sort=Sort.NEWEST, # urutan sesuai data terbaru\r\n",
        "    count=5000\r\n",
        ")\r\n",
        "\r\n",
        "result, _ = reviews(\r\n",
        "    app_package_id,\r\n",
        "    continuation_token=continuation_token\r\n",
        ")"
      ],
      "outputs": [],
      "metadata": {
        "id": "9V0ThrbyWh3C"
      }
    },
    {
      "cell_type": "code",
      "execution_count": null,
      "source": [
        "import pandas as pd\r\n",
        "data = pd.DataFrame(result)\r\n",
        "data.to_csv(path_or_buf = \"digital_korlantas_reviews_5000_raw.csv\")"
      ],
      "outputs": [],
      "metadata": {
        "id": "eY8N-DpdZT6H"
      }
    }
  ]
}